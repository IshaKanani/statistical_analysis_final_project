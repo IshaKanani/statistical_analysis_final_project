{
  "nbformat": 4,
  "nbformat_minor": 0,
  "metadata": {
    "colab": {
      "name": "dfw_flights.ipynb",
      "version": "0.3.2",
      "provenance": [],
      "include_colab_link": true
    },
    "kernelspec": {
      "name": "python3",
      "display_name": "Python 3"
    }
  },
  "cells": [
    {
      "cell_type": "markdown",
      "metadata": {
        "id": "view-in-github",
        "colab_type": "text"
      },
      "source": [
        "<a href=\"https://colab.research.google.com/github/IshaKanani/statistical_analysis_final_project/blob/master/dfw_flights.ipynb\" target=\"_parent\"><img src=\"https://colab.research.google.com/assets/colab-badge.svg\" alt=\"Open In Colab\"/></a>"
      ]
    },
    {
      "cell_type": "code",
      "metadata": {
        "id": "juh7WBXkImvo",
        "colab_type": "code",
        "colab": {
          "base_uri": "https://localhost:8080/",
          "height": 255
        },
        "outputId": "e626078a-af24-4d56-f98d-2ddb70960669"
      },
      "source": [
        "import pandas as pd\n",
        "\n",
        "#File \"int_2011 downloaded from https://www.transtats.bts.gov/Fields.asp, by setting the parameters to Texas, 2011\"\n",
        "raw = pd.read_csv(\"int_2011.csv\")\n",
        "raw1 = raw[(raw.ORIGIN ==\"DFW\") | (raw.DEST ==\"DFW\")].groupby(raw.MONTH).count()\n",
        "raw1['MONTH']"
      ],
      "execution_count": 2,
      "outputs": [
        {
          "output_type": "execute_result",
          "data": {
            "text/plain": [
              "MONTH\n",
              "1     136\n",
              "2     149\n",
              "3     134\n",
              "4     147\n",
              "5     142\n",
              "6     154\n",
              "7     153\n",
              "8     155\n",
              "9     147\n",
              "10    148\n",
              "11    148\n",
              "12    146\n",
              "Name: MONTH, dtype: int64"
            ]
          },
          "metadata": {
            "tags": []
          },
          "execution_count": 2
        }
      ]
    },
    {
      "cell_type": "code",
      "metadata": {
        "id": "bwmrOQd9JAMP",
        "colab_type": "code",
        "colab": {
          "base_uri": "https://localhost:8080/",
          "height": 452
        },
        "outputId": "40995f89-82d3-439a-cca2-470f578391a2"
      },
      "source": [
        "raw1"
      ],
      "execution_count": 3,
      "outputs": [
        {
          "output_type": "execute_result",
          "data": {
            "text/html": [
              "<div>\n",
              "<style scoped>\n",
              "    .dataframe tbody tr th:only-of-type {\n",
              "        vertical-align: middle;\n",
              "    }\n",
              "\n",
              "    .dataframe tbody tr th {\n",
              "        vertical-align: top;\n",
              "    }\n",
              "\n",
              "    .dataframe thead th {\n",
              "        text-align: right;\n",
              "    }\n",
              "</style>\n",
              "<table border=\"1\" class=\"dataframe\">\n",
              "  <thead>\n",
              "    <tr style=\"text-align: right;\">\n",
              "      <th></th>\n",
              "      <th>UNIQUE_CARRIER</th>\n",
              "      <th>UNIQUE_CARRIER_NAME</th>\n",
              "      <th>ORIGIN_AIRPORT_ID</th>\n",
              "      <th>ORIGIN</th>\n",
              "      <th>DEST_AIRPORT_ID</th>\n",
              "      <th>DEST</th>\n",
              "      <th>MONTH</th>\n",
              "      <th>Unnamed: 7</th>\n",
              "    </tr>\n",
              "    <tr>\n",
              "      <th>MONTH</th>\n",
              "      <th></th>\n",
              "      <th></th>\n",
              "      <th></th>\n",
              "      <th></th>\n",
              "      <th></th>\n",
              "      <th></th>\n",
              "      <th></th>\n",
              "      <th></th>\n",
              "    </tr>\n",
              "  </thead>\n",
              "  <tbody>\n",
              "    <tr>\n",
              "      <th>1</th>\n",
              "      <td>136</td>\n",
              "      <td>136</td>\n",
              "      <td>136</td>\n",
              "      <td>136</td>\n",
              "      <td>136</td>\n",
              "      <td>136</td>\n",
              "      <td>136</td>\n",
              "      <td>0</td>\n",
              "    </tr>\n",
              "    <tr>\n",
              "      <th>2</th>\n",
              "      <td>149</td>\n",
              "      <td>149</td>\n",
              "      <td>149</td>\n",
              "      <td>149</td>\n",
              "      <td>149</td>\n",
              "      <td>149</td>\n",
              "      <td>149</td>\n",
              "      <td>0</td>\n",
              "    </tr>\n",
              "    <tr>\n",
              "      <th>3</th>\n",
              "      <td>134</td>\n",
              "      <td>134</td>\n",
              "      <td>134</td>\n",
              "      <td>134</td>\n",
              "      <td>134</td>\n",
              "      <td>134</td>\n",
              "      <td>134</td>\n",
              "      <td>0</td>\n",
              "    </tr>\n",
              "    <tr>\n",
              "      <th>4</th>\n",
              "      <td>147</td>\n",
              "      <td>147</td>\n",
              "      <td>147</td>\n",
              "      <td>147</td>\n",
              "      <td>147</td>\n",
              "      <td>147</td>\n",
              "      <td>147</td>\n",
              "      <td>0</td>\n",
              "    </tr>\n",
              "    <tr>\n",
              "      <th>5</th>\n",
              "      <td>142</td>\n",
              "      <td>142</td>\n",
              "      <td>142</td>\n",
              "      <td>142</td>\n",
              "      <td>142</td>\n",
              "      <td>142</td>\n",
              "      <td>142</td>\n",
              "      <td>0</td>\n",
              "    </tr>\n",
              "    <tr>\n",
              "      <th>6</th>\n",
              "      <td>154</td>\n",
              "      <td>154</td>\n",
              "      <td>154</td>\n",
              "      <td>154</td>\n",
              "      <td>154</td>\n",
              "      <td>154</td>\n",
              "      <td>154</td>\n",
              "      <td>0</td>\n",
              "    </tr>\n",
              "    <tr>\n",
              "      <th>7</th>\n",
              "      <td>153</td>\n",
              "      <td>153</td>\n",
              "      <td>153</td>\n",
              "      <td>153</td>\n",
              "      <td>153</td>\n",
              "      <td>153</td>\n",
              "      <td>153</td>\n",
              "      <td>0</td>\n",
              "    </tr>\n",
              "    <tr>\n",
              "      <th>8</th>\n",
              "      <td>155</td>\n",
              "      <td>155</td>\n",
              "      <td>155</td>\n",
              "      <td>155</td>\n",
              "      <td>155</td>\n",
              "      <td>155</td>\n",
              "      <td>155</td>\n",
              "      <td>0</td>\n",
              "    </tr>\n",
              "    <tr>\n",
              "      <th>9</th>\n",
              "      <td>147</td>\n",
              "      <td>147</td>\n",
              "      <td>147</td>\n",
              "      <td>147</td>\n",
              "      <td>147</td>\n",
              "      <td>147</td>\n",
              "      <td>147</td>\n",
              "      <td>0</td>\n",
              "    </tr>\n",
              "    <tr>\n",
              "      <th>10</th>\n",
              "      <td>148</td>\n",
              "      <td>148</td>\n",
              "      <td>148</td>\n",
              "      <td>148</td>\n",
              "      <td>148</td>\n",
              "      <td>148</td>\n",
              "      <td>148</td>\n",
              "      <td>0</td>\n",
              "    </tr>\n",
              "    <tr>\n",
              "      <th>11</th>\n",
              "      <td>148</td>\n",
              "      <td>148</td>\n",
              "      <td>148</td>\n",
              "      <td>148</td>\n",
              "      <td>148</td>\n",
              "      <td>148</td>\n",
              "      <td>148</td>\n",
              "      <td>0</td>\n",
              "    </tr>\n",
              "    <tr>\n",
              "      <th>12</th>\n",
              "      <td>146</td>\n",
              "      <td>146</td>\n",
              "      <td>146</td>\n",
              "      <td>146</td>\n",
              "      <td>146</td>\n",
              "      <td>146</td>\n",
              "      <td>146</td>\n",
              "      <td>0</td>\n",
              "    </tr>\n",
              "  </tbody>\n",
              "</table>\n",
              "</div>"
            ],
            "text/plain": [
              "       UNIQUE_CARRIER  UNIQUE_CARRIER_NAME  ORIGIN_AIRPORT_ID  ORIGIN  \\\n",
              "MONTH                                                                   \n",
              "1                 136                  136                136     136   \n",
              "2                 149                  149                149     149   \n",
              "3                 134                  134                134     134   \n",
              "4                 147                  147                147     147   \n",
              "5                 142                  142                142     142   \n",
              "6                 154                  154                154     154   \n",
              "7                 153                  153                153     153   \n",
              "8                 155                  155                155     155   \n",
              "9                 147                  147                147     147   \n",
              "10                148                  148                148     148   \n",
              "11                148                  148                148     148   \n",
              "12                146                  146                146     146   \n",
              "\n",
              "       DEST_AIRPORT_ID  DEST  MONTH  Unnamed: 7  \n",
              "MONTH                                            \n",
              "1                  136   136    136           0  \n",
              "2                  149   149    149           0  \n",
              "3                  134   134    134           0  \n",
              "4                  147   147    147           0  \n",
              "5                  142   142    142           0  \n",
              "6                  154   154    154           0  \n",
              "7                  153   153    153           0  \n",
              "8                  155   155    155           0  \n",
              "9                  147   147    147           0  \n",
              "10                 148   148    148           0  \n",
              "11                 148   148    148           0  \n",
              "12                 146   146    146           0  "
            ]
          },
          "metadata": {
            "tags": []
          },
          "execution_count": 3
        }
      ]
    },
    {
      "cell_type": "code",
      "metadata": {
        "id": "77xJ2fSFJHD9",
        "colab_type": "code",
        "colab": {
          "base_uri": "https://localhost:8080/",
          "height": 255
        },
        "outputId": "58c26ec0-f5f2-4ca5-f6c0-05c4203424e3"
      },
      "source": [
        "raw1['MONTH']"
      ],
      "execution_count": 4,
      "outputs": [
        {
          "output_type": "execute_result",
          "data": {
            "text/plain": [
              "MONTH\n",
              "1     136\n",
              "2     149\n",
              "3     134\n",
              "4     147\n",
              "5     142\n",
              "6     154\n",
              "7     153\n",
              "8     155\n",
              "9     147\n",
              "10    148\n",
              "11    148\n",
              "12    146\n",
              "Name: MONTH, dtype: int64"
            ]
          },
          "metadata": {
            "tags": []
          },
          "execution_count": 4
        }
      ]
    }
  ]
}